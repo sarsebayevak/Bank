{
 "cells": [
  {
   "cell_type": "markdown",
   "metadata": {},
   "source": [
    "# Dataframe for ZHAN'A SHAQ Bank"
   ]
  },
  {
   "cell_type": "code",
   "execution_count": 26,
   "metadata": {},
   "outputs": [],
   "source": [
    "import pandas as pd\n",
    "import numpy as np\n",
    "import matplotlib as plt\n",
    "import seaborn as sns"
   ]
  },
  {
   "cell_type": "code",
   "execution_count": 31,
   "metadata": {},
   "outputs": [],
   "source": [
    "table = pd.read_csv('zhana.csv', sep=';')"
   ]
  },
  {
   "cell_type": "code",
   "execution_count": 32,
   "metadata": {},
   "outputs": [
    {
     "data": {
      "text/html": [
       "<div>\n",
       "<style scoped>\n",
       "    .dataframe tbody tr th:only-of-type {\n",
       "        vertical-align: middle;\n",
       "    }\n",
       "\n",
       "    .dataframe tbody tr th {\n",
       "        vertical-align: top;\n",
       "    }\n",
       "\n",
       "    .dataframe thead th {\n",
       "        text-align: right;\n",
       "    }\n",
       "</style>\n",
       "<table border=\"1\" class=\"dataframe\">\n",
       "  <thead>\n",
       "    <tr style=\"text-align: right;\">\n",
       "      <th></th>\n",
       "      <th>age</th>\n",
       "      <th>gender</th>\n",
       "      <th>marital status</th>\n",
       "      <th>kids</th>\n",
       "      <th>education</th>\n",
       "      <th>job</th>\n",
       "      <th>housing</th>\n",
       "      <th>deposit</th>\n",
       "      <th>loan</th>\n",
       "      <th>current loan</th>\n",
       "    </tr>\n",
       "  </thead>\n",
       "  <tbody>\n",
       "    <tr>\n",
       "      <td>0</td>\n",
       "      <td>25</td>\n",
       "      <td>female</td>\n",
       "      <td>married</td>\n",
       "      <td>yes</td>\n",
       "      <td>bachelor degree</td>\n",
       "      <td>management</td>\n",
       "      <td>no</td>\n",
       "      <td>yes</td>\n",
       "      <td>yes</td>\n",
       "      <td>500000</td>\n",
       "    </tr>\n",
       "    <tr>\n",
       "      <td>1</td>\n",
       "      <td>44</td>\n",
       "      <td>male</td>\n",
       "      <td>married</td>\n",
       "      <td>yes</td>\n",
       "      <td>masters degree</td>\n",
       "      <td>service</td>\n",
       "      <td>yes</td>\n",
       "      <td>yes</td>\n",
       "      <td>no</td>\n",
       "      <td>0</td>\n",
       "    </tr>\n",
       "    <tr>\n",
       "      <td>2</td>\n",
       "      <td>30</td>\n",
       "      <td>male</td>\n",
       "      <td>single</td>\n",
       "      <td>no</td>\n",
       "      <td>mba</td>\n",
       "      <td>management</td>\n",
       "      <td>no</td>\n",
       "      <td>no</td>\n",
       "      <td>yes</td>\n",
       "      <td>780000</td>\n",
       "    </tr>\n",
       "    <tr>\n",
       "      <td>3</td>\n",
       "      <td>20</td>\n",
       "      <td>male</td>\n",
       "      <td>single</td>\n",
       "      <td>no</td>\n",
       "      <td>student</td>\n",
       "      <td>student</td>\n",
       "      <td>no</td>\n",
       "      <td>no</td>\n",
       "      <td>no</td>\n",
       "      <td>0</td>\n",
       "    </tr>\n",
       "    <tr>\n",
       "      <td>4</td>\n",
       "      <td>29</td>\n",
       "      <td>female</td>\n",
       "      <td>divorced</td>\n",
       "      <td>yes</td>\n",
       "      <td>bachelor degree</td>\n",
       "      <td>housemaid</td>\n",
       "      <td>yes</td>\n",
       "      <td>yes</td>\n",
       "      <td>no</td>\n",
       "      <td>0</td>\n",
       "    </tr>\n",
       "    <tr>\n",
       "      <td>...</td>\n",
       "      <td>...</td>\n",
       "      <td>...</td>\n",
       "      <td>...</td>\n",
       "      <td>...</td>\n",
       "      <td>...</td>\n",
       "      <td>...</td>\n",
       "      <td>...</td>\n",
       "      <td>...</td>\n",
       "      <td>...</td>\n",
       "      <td>...</td>\n",
       "    </tr>\n",
       "    <tr>\n",
       "      <td>105</td>\n",
       "      <td>34</td>\n",
       "      <td>male</td>\n",
       "      <td>married</td>\n",
       "      <td>no</td>\n",
       "      <td>college diploma</td>\n",
       "      <td>unemployed</td>\n",
       "      <td>yes</td>\n",
       "      <td>yes</td>\n",
       "      <td>no</td>\n",
       "      <td>0</td>\n",
       "    </tr>\n",
       "    <tr>\n",
       "      <td>106</td>\n",
       "      <td>35</td>\n",
       "      <td>female</td>\n",
       "      <td>divorced</td>\n",
       "      <td>yes</td>\n",
       "      <td>mba</td>\n",
       "      <td>enterpreneur</td>\n",
       "      <td>yes</td>\n",
       "      <td>no</td>\n",
       "      <td>yes</td>\n",
       "      <td>500000</td>\n",
       "    </tr>\n",
       "    <tr>\n",
       "      <td>107</td>\n",
       "      <td>37</td>\n",
       "      <td>female</td>\n",
       "      <td>divorced</td>\n",
       "      <td>no</td>\n",
       "      <td>bachelor degree</td>\n",
       "      <td>enterpreneur</td>\n",
       "      <td>yes</td>\n",
       "      <td>yes</td>\n",
       "      <td>no</td>\n",
       "      <td>0</td>\n",
       "    </tr>\n",
       "    <tr>\n",
       "      <td>108</td>\n",
       "      <td>38</td>\n",
       "      <td>male</td>\n",
       "      <td>married</td>\n",
       "      <td>yes</td>\n",
       "      <td>high school</td>\n",
       "      <td>unemployed</td>\n",
       "      <td>yes</td>\n",
       "      <td>no</td>\n",
       "      <td>yes</td>\n",
       "      <td>120000</td>\n",
       "    </tr>\n",
       "    <tr>\n",
       "      <td>109</td>\n",
       "      <td>30</td>\n",
       "      <td>male</td>\n",
       "      <td>married</td>\n",
       "      <td>yes</td>\n",
       "      <td>bachelor degree</td>\n",
       "      <td>management</td>\n",
       "      <td>yes</td>\n",
       "      <td>yes</td>\n",
       "      <td>no</td>\n",
       "      <td>0</td>\n",
       "    </tr>\n",
       "  </tbody>\n",
       "</table>\n",
       "<p>110 rows × 10 columns</p>\n",
       "</div>"
      ],
      "text/plain": [
       "     age  gender marital status kids        education           job housing  \\\n",
       "0     25  female        married  yes  bachelor degree    management      no   \n",
       "1     44    male        married  yes   masters degree       service     yes   \n",
       "2     30    male         single   no              mba    management      no   \n",
       "3     20    male         single   no          student       student      no   \n",
       "4     29  female       divorced  yes  bachelor degree     housemaid     yes   \n",
       "..   ...     ...            ...  ...              ...           ...     ...   \n",
       "105   34    male        married   no  college diploma    unemployed     yes   \n",
       "106   35  female       divorced  yes              mba  enterpreneur     yes   \n",
       "107   37  female       divorced   no  bachelor degree  enterpreneur     yes   \n",
       "108   38    male        married  yes      high school    unemployed     yes   \n",
       "109   30    male        married  yes  bachelor degree    management     yes   \n",
       "\n",
       "    deposit loan  current loan  \n",
       "0       yes  yes        500000  \n",
       "1       yes   no             0  \n",
       "2        no  yes        780000  \n",
       "3        no   no             0  \n",
       "4       yes   no             0  \n",
       "..      ...  ...           ...  \n",
       "105     yes   no             0  \n",
       "106      no  yes        500000  \n",
       "107     yes   no             0  \n",
       "108      no  yes        120000  \n",
       "109     yes   no             0  \n",
       "\n",
       "[110 rows x 10 columns]"
      ]
     },
     "execution_count": 32,
     "metadata": {},
     "output_type": "execute_result"
    }
   ],
   "source": [
    "table"
   ]
  },
  {
   "cell_type": "markdown",
   "metadata": {},
   "source": [
    "By using code 'table' data from the excel is shown in dataframe. Here we can see all 110 observations of respondents and their by 10 different charasteristics in columns. The main information about their education, loans and other have been collected and shown in the table.\n"
   ]
  },
  {
   "cell_type": "code",
   "execution_count": 63,
   "metadata": {},
   "outputs": [
    {
     "data": {
      "text/html": [
       "<div>\n",
       "<style scoped>\n",
       "    .dataframe tbody tr th:only-of-type {\n",
       "        vertical-align: middle;\n",
       "    }\n",
       "\n",
       "    .dataframe tbody tr th {\n",
       "        vertical-align: top;\n",
       "    }\n",
       "\n",
       "    .dataframe thead th {\n",
       "        text-align: right;\n",
       "    }\n",
       "</style>\n",
       "<table border=\"1\" class=\"dataframe\">\n",
       "  <thead>\n",
       "    <tr style=\"text-align: right;\">\n",
       "      <th></th>\n",
       "      <th>age</th>\n",
       "      <th>gender</th>\n",
       "      <th>marital status</th>\n",
       "      <th>kids</th>\n",
       "      <th>education</th>\n",
       "      <th>job</th>\n",
       "      <th>housing</th>\n",
       "      <th>deposit</th>\n",
       "      <th>loan</th>\n",
       "      <th>current loan</th>\n",
       "    </tr>\n",
       "  </thead>\n",
       "  <tbody>\n",
       "    <tr>\n",
       "      <td>0</td>\n",
       "      <td>25</td>\n",
       "      <td>female</td>\n",
       "      <td>married</td>\n",
       "      <td>yes</td>\n",
       "      <td>bachelor degree</td>\n",
       "      <td>management</td>\n",
       "      <td>no</td>\n",
       "      <td>yes</td>\n",
       "      <td>yes</td>\n",
       "      <td>500000</td>\n",
       "    </tr>\n",
       "    <tr>\n",
       "      <td>1</td>\n",
       "      <td>44</td>\n",
       "      <td>male</td>\n",
       "      <td>married</td>\n",
       "      <td>yes</td>\n",
       "      <td>basters degree</td>\n",
       "      <td>service</td>\n",
       "      <td>yes</td>\n",
       "      <td>yes</td>\n",
       "      <td>no</td>\n",
       "      <td>0</td>\n",
       "    </tr>\n",
       "    <tr>\n",
       "      <td>2</td>\n",
       "      <td>30</td>\n",
       "      <td>male</td>\n",
       "      <td>single</td>\n",
       "      <td>no</td>\n",
       "      <td>mba</td>\n",
       "      <td>management</td>\n",
       "      <td>no</td>\n",
       "      <td>no</td>\n",
       "      <td>yes</td>\n",
       "      <td>780000</td>\n",
       "    </tr>\n",
       "    <tr>\n",
       "      <td>3</td>\n",
       "      <td>20</td>\n",
       "      <td>male</td>\n",
       "      <td>single</td>\n",
       "      <td>no</td>\n",
       "      <td>student</td>\n",
       "      <td>student</td>\n",
       "      <td>no</td>\n",
       "      <td>no</td>\n",
       "      <td>no</td>\n",
       "      <td>0</td>\n",
       "    </tr>\n",
       "    <tr>\n",
       "      <td>4</td>\n",
       "      <td>29</td>\n",
       "      <td>female</td>\n",
       "      <td>divorced</td>\n",
       "      <td>yes</td>\n",
       "      <td>bachelor degree</td>\n",
       "      <td>housemaid</td>\n",
       "      <td>yes</td>\n",
       "      <td>yes</td>\n",
       "      <td>no</td>\n",
       "      <td>0</td>\n",
       "    </tr>\n",
       "    <tr>\n",
       "      <td>5</td>\n",
       "      <td>21</td>\n",
       "      <td>female</td>\n",
       "      <td>married</td>\n",
       "      <td>no</td>\n",
       "      <td>college diploma</td>\n",
       "      <td>management</td>\n",
       "      <td>no</td>\n",
       "      <td>yes</td>\n",
       "      <td>no</td>\n",
       "      <td>0</td>\n",
       "    </tr>\n",
       "    <tr>\n",
       "      <td>6</td>\n",
       "      <td>26</td>\n",
       "      <td>male</td>\n",
       "      <td>single</td>\n",
       "      <td>no</td>\n",
       "      <td>casters degree</td>\n",
       "      <td>admin.</td>\n",
       "      <td>no</td>\n",
       "      <td>yes</td>\n",
       "      <td>yes</td>\n",
       "      <td>50000</td>\n",
       "    </tr>\n",
       "    <tr>\n",
       "      <td>7</td>\n",
       "      <td>20</td>\n",
       "      <td>female</td>\n",
       "      <td>single</td>\n",
       "      <td>no</td>\n",
       "      <td>student</td>\n",
       "      <td>student</td>\n",
       "      <td>no</td>\n",
       "      <td>no</td>\n",
       "      <td>no</td>\n",
       "      <td>0</td>\n",
       "    </tr>\n",
       "    <tr>\n",
       "      <td>8</td>\n",
       "      <td>35</td>\n",
       "      <td>female</td>\n",
       "      <td>married</td>\n",
       "      <td>yes</td>\n",
       "      <td>college diploma</td>\n",
       "      <td>housemaid</td>\n",
       "      <td>yes</td>\n",
       "      <td>yes</td>\n",
       "      <td>no</td>\n",
       "      <td>0</td>\n",
       "    </tr>\n",
       "    <tr>\n",
       "      <td>9</td>\n",
       "      <td>34</td>\n",
       "      <td>male</td>\n",
       "      <td>divorced</td>\n",
       "      <td>yes</td>\n",
       "      <td>mba</td>\n",
       "      <td>enterpreneur</td>\n",
       "      <td>yes</td>\n",
       "      <td>yes</td>\n",
       "      <td>yes</td>\n",
       "      <td>1000000</td>\n",
       "    </tr>\n",
       "  </tbody>\n",
       "</table>\n",
       "</div>"
      ],
      "text/plain": [
       "   age  gender marital status kids        education           job housing  \\\n",
       "0   25  female        married  yes  bachelor degree    management      no   \n",
       "1   44    male        married  yes   basters degree       service     yes   \n",
       "2   30    male         single   no              mba    management      no   \n",
       "3   20    male         single   no          student       student      no   \n",
       "4   29  female       divorced  yes  bachelor degree     housemaid     yes   \n",
       "5   21  female        married   no  college diploma    management      no   \n",
       "6   26    male         single   no   casters degree        admin.      no   \n",
       "7   20  female         single   no          student       student      no   \n",
       "8   35  female        married  yes  college diploma     housemaid     yes   \n",
       "9   34    male       divorced  yes              mba  enterpreneur     yes   \n",
       "\n",
       "  deposit loan  current loan  \n",
       "0     yes  yes        500000  \n",
       "1     yes   no             0  \n",
       "2      no  yes        780000  \n",
       "3      no   no             0  \n",
       "4     yes   no             0  \n",
       "5     yes   no             0  \n",
       "6     yes  yes         50000  \n",
       "7      no   no             0  \n",
       "8     yes   no             0  \n",
       "9     yes  yes       1000000  "
      ]
     },
     "execution_count": 63,
     "metadata": {},
     "output_type": "execute_result"
    }
   ],
   "source": [
    "table.head(10)"
   ]
  },
  {
   "cell_type": "markdown",
   "metadata": {},
   "source": [
    "The next code 'head' shows us only first 10 observations- respondents starting counting from 0 to 9 as usual in Python. Information in the data from excel is not structured by any way, so there is random data without any order."
   ]
  },
  {
   "cell_type": "code",
   "execution_count": 90,
   "metadata": {},
   "outputs": [
    {
     "data": {
      "text/html": [
       "<div>\n",
       "<style scoped>\n",
       "    .dataframe tbody tr th:only-of-type {\n",
       "        vertical-align: middle;\n",
       "    }\n",
       "\n",
       "    .dataframe tbody tr th {\n",
       "        vertical-align: top;\n",
       "    }\n",
       "\n",
       "    .dataframe thead th {\n",
       "        text-align: right;\n",
       "    }\n",
       "</style>\n",
       "<table border=\"1\" class=\"dataframe\">\n",
       "  <thead>\n",
       "    <tr style=\"text-align: right;\">\n",
       "      <th></th>\n",
       "      <th>age</th>\n",
       "      <th>gender</th>\n",
       "      <th>marital status</th>\n",
       "      <th>kids</th>\n",
       "      <th>education</th>\n",
       "      <th>job</th>\n",
       "      <th>housing</th>\n",
       "      <th>deposit</th>\n",
       "      <th>loan</th>\n",
       "      <th>current loan</th>\n",
       "    </tr>\n",
       "  </thead>\n",
       "  <tbody>\n",
       "    <tr>\n",
       "      <td>100</td>\n",
       "      <td>23</td>\n",
       "      <td>male</td>\n",
       "      <td>married</td>\n",
       "      <td>no</td>\n",
       "      <td>college diploma</td>\n",
       "      <td>admin.</td>\n",
       "      <td>no</td>\n",
       "      <td>yes</td>\n",
       "      <td>no</td>\n",
       "      <td>0</td>\n",
       "    </tr>\n",
       "    <tr>\n",
       "      <td>101</td>\n",
       "      <td>41</td>\n",
       "      <td>female</td>\n",
       "      <td>married</td>\n",
       "      <td>yes</td>\n",
       "      <td>masters degree</td>\n",
       "      <td>management</td>\n",
       "      <td>yes</td>\n",
       "      <td>no</td>\n",
       "      <td>no</td>\n",
       "      <td>0</td>\n",
       "    </tr>\n",
       "    <tr>\n",
       "      <td>102</td>\n",
       "      <td>44</td>\n",
       "      <td>female</td>\n",
       "      <td>married</td>\n",
       "      <td>yes</td>\n",
       "      <td>college diploma</td>\n",
       "      <td>service</td>\n",
       "      <td>no</td>\n",
       "      <td>no</td>\n",
       "      <td>no</td>\n",
       "      <td>0</td>\n",
       "    </tr>\n",
       "    <tr>\n",
       "      <td>103</td>\n",
       "      <td>61</td>\n",
       "      <td>male</td>\n",
       "      <td>married</td>\n",
       "      <td>yes</td>\n",
       "      <td>bachelor degree</td>\n",
       "      <td>unemployed</td>\n",
       "      <td>yes</td>\n",
       "      <td>yes</td>\n",
       "      <td>no</td>\n",
       "      <td>0</td>\n",
       "    </tr>\n",
       "    <tr>\n",
       "      <td>104</td>\n",
       "      <td>55</td>\n",
       "      <td>female</td>\n",
       "      <td>married</td>\n",
       "      <td>yes</td>\n",
       "      <td>mba</td>\n",
       "      <td>unemployed</td>\n",
       "      <td>yes</td>\n",
       "      <td>yes</td>\n",
       "      <td>yes</td>\n",
       "      <td>100000</td>\n",
       "    </tr>\n",
       "    <tr>\n",
       "      <td>105</td>\n",
       "      <td>34</td>\n",
       "      <td>male</td>\n",
       "      <td>married</td>\n",
       "      <td>no</td>\n",
       "      <td>college diploma</td>\n",
       "      <td>unemployed</td>\n",
       "      <td>yes</td>\n",
       "      <td>yes</td>\n",
       "      <td>no</td>\n",
       "      <td>0</td>\n",
       "    </tr>\n",
       "    <tr>\n",
       "      <td>106</td>\n",
       "      <td>35</td>\n",
       "      <td>female</td>\n",
       "      <td>divorced</td>\n",
       "      <td>yes</td>\n",
       "      <td>mba</td>\n",
       "      <td>enterpreneur</td>\n",
       "      <td>yes</td>\n",
       "      <td>no</td>\n",
       "      <td>yes</td>\n",
       "      <td>500000</td>\n",
       "    </tr>\n",
       "    <tr>\n",
       "      <td>107</td>\n",
       "      <td>37</td>\n",
       "      <td>female</td>\n",
       "      <td>divorced</td>\n",
       "      <td>no</td>\n",
       "      <td>bachelor degree</td>\n",
       "      <td>enterpreneur</td>\n",
       "      <td>yes</td>\n",
       "      <td>yes</td>\n",
       "      <td>no</td>\n",
       "      <td>0</td>\n",
       "    </tr>\n",
       "    <tr>\n",
       "      <td>108</td>\n",
       "      <td>38</td>\n",
       "      <td>male</td>\n",
       "      <td>married</td>\n",
       "      <td>yes</td>\n",
       "      <td>high school</td>\n",
       "      <td>unemployed</td>\n",
       "      <td>yes</td>\n",
       "      <td>no</td>\n",
       "      <td>yes</td>\n",
       "      <td>120000</td>\n",
       "    </tr>\n",
       "    <tr>\n",
       "      <td>109</td>\n",
       "      <td>30</td>\n",
       "      <td>male</td>\n",
       "      <td>married</td>\n",
       "      <td>yes</td>\n",
       "      <td>bachelor degree</td>\n",
       "      <td>management</td>\n",
       "      <td>yes</td>\n",
       "      <td>yes</td>\n",
       "      <td>no</td>\n",
       "      <td>0</td>\n",
       "    </tr>\n",
       "  </tbody>\n",
       "</table>\n",
       "</div>"
      ],
      "text/plain": [
       "     age  gender marital status kids        education           job housing  \\\n",
       "100   23    male        married   no  college diploma        admin.      no   \n",
       "101   41  female        married  yes   masters degree    management     yes   \n",
       "102   44  female        married  yes  college diploma       service      no   \n",
       "103   61    male        married  yes  bachelor degree    unemployed     yes   \n",
       "104   55  female        married  yes              mba    unemployed     yes   \n",
       "105   34    male        married   no  college diploma    unemployed     yes   \n",
       "106   35  female       divorced  yes              mba  enterpreneur     yes   \n",
       "107   37  female       divorced   no  bachelor degree  enterpreneur     yes   \n",
       "108   38    male        married  yes      high school    unemployed     yes   \n",
       "109   30    male        married  yes  bachelor degree    management     yes   \n",
       "\n",
       "    deposit loan  current loan  \n",
       "100     yes   no             0  \n",
       "101      no   no             0  \n",
       "102      no   no             0  \n",
       "103     yes   no             0  \n",
       "104     yes  yes        100000  \n",
       "105     yes   no             0  \n",
       "106      no  yes        500000  \n",
       "107     yes   no             0  \n",
       "108      no  yes        120000  \n",
       "109     yes   no             0  "
      ]
     },
     "execution_count": 90,
     "metadata": {},
     "output_type": "execute_result"
    }
   ],
   "source": [
    "table.tail(10)"
   ]
  },
  {
   "cell_type": "markdown",
   "metadata": {},
   "source": [
    "Code 'tail' shows us last 10 observations from the database, in case if only this information will be needed. The needed number of observations could be changed from 10 to any number by writing number in parentheses:()."
   ]
  },
  {
   "cell_type": "code",
   "execution_count": 91,
   "metadata": {},
   "outputs": [
    {
     "name": "stdout",
     "output_type": "stream",
     "text": [
      "<class 'pandas.core.frame.DataFrame'>\n",
      "RangeIndex: 110 entries, 0 to 109\n",
      "Data columns (total 10 columns):\n",
      "age               110 non-null int64\n",
      "gender            110 non-null object\n",
      "marital status    110 non-null object\n",
      "kids              110 non-null object\n",
      "education         110 non-null object\n",
      "job               110 non-null object\n",
      "housing           110 non-null object\n",
      "deposit           110 non-null object\n",
      "loan              110 non-null object\n",
      "current loan      110 non-null int64\n",
      "dtypes: int64(2), object(8)\n",
      "memory usage: 8.7+ KB\n"
     ]
    }
   ],
   "source": [
    "table.info()"
   ]
  },
  {
   "cell_type": "markdown",
   "metadata": {},
   "source": [
    "Code 'info' shows information about data columns: their number, range and name of the columns. Memory usage is is also shown in this code. In the dtypes shown type of the data (integer, float, Python object, etc.)."
   ]
  },
  {
   "cell_type": "code",
   "execution_count": 92,
   "metadata": {},
   "outputs": [
    {
     "data": {
      "text/html": [
       "<div>\n",
       "<style scoped>\n",
       "    .dataframe tbody tr th:only-of-type {\n",
       "        vertical-align: middle;\n",
       "    }\n",
       "\n",
       "    .dataframe tbody tr th {\n",
       "        vertical-align: top;\n",
       "    }\n",
       "\n",
       "    .dataframe thead th {\n",
       "        text-align: right;\n",
       "    }\n",
       "</style>\n",
       "<table border=\"1\" class=\"dataframe\">\n",
       "  <thead>\n",
       "    <tr style=\"text-align: right;\">\n",
       "      <th></th>\n",
       "      <th>age</th>\n",
       "      <th>current loan</th>\n",
       "    </tr>\n",
       "  </thead>\n",
       "  <tbody>\n",
       "    <tr>\n",
       "      <td>age</td>\n",
       "      <td>1.000000</td>\n",
       "      <td>0.117744</td>\n",
       "    </tr>\n",
       "    <tr>\n",
       "      <td>current loan</td>\n",
       "      <td>0.117744</td>\n",
       "      <td>1.000000</td>\n",
       "    </tr>\n",
       "  </tbody>\n",
       "</table>\n",
       "</div>"
      ],
      "text/plain": [
       "                   age  current loan\n",
       "age           1.000000      0.117744\n",
       "current loan  0.117744      1.000000"
      ]
     },
     "execution_count": 92,
     "metadata": {},
     "output_type": "execute_result"
    }
   ],
   "source": [
    "table.corr(method= 'pearson')"
   ]
  },
  {
   "cell_type": "markdown",
   "metadata": {},
   "source": [
    "Code 'pearson' shows positive on negative relationships between two variables. Numbers between 0.7 and 1.0 shows strong positive relationship, and -0.7 and -1.0 negative, 0 is no relationships.\n",
    "\n",
    "As we can see in the dataframe, correlation between ages and correlation between current loans are strong positive, amd correlation between age and current loan is posive. "
   ]
  },
  {
   "cell_type": "code",
   "execution_count": 93,
   "metadata": {},
   "outputs": [
    {
     "data": {
      "text/html": [
       "<div>\n",
       "<style scoped>\n",
       "    .dataframe tbody tr th:only-of-type {\n",
       "        vertical-align: middle;\n",
       "    }\n",
       "\n",
       "    .dataframe tbody tr th {\n",
       "        vertical-align: top;\n",
       "    }\n",
       "\n",
       "    .dataframe thead th {\n",
       "        text-align: right;\n",
       "    }\n",
       "</style>\n",
       "<table border=\"1\" class=\"dataframe\">\n",
       "  <thead>\n",
       "    <tr style=\"text-align: right;\">\n",
       "      <th></th>\n",
       "      <th>age</th>\n",
       "      <th>current loan</th>\n",
       "    </tr>\n",
       "  </thead>\n",
       "  <tbody>\n",
       "    <tr>\n",
       "      <td>count</td>\n",
       "      <td>110.000000</td>\n",
       "      <td>1.100000e+02</td>\n",
       "    </tr>\n",
       "    <tr>\n",
       "      <td>mean</td>\n",
       "      <td>34.109091</td>\n",
       "      <td>6.033818e+05</td>\n",
       "    </tr>\n",
       "    <tr>\n",
       "      <td>std</td>\n",
       "      <td>11.248115</td>\n",
       "      <td>1.567828e+06</td>\n",
       "    </tr>\n",
       "    <tr>\n",
       "      <td>min</td>\n",
       "      <td>18.000000</td>\n",
       "      <td>0.000000e+00</td>\n",
       "    </tr>\n",
       "    <tr>\n",
       "      <td>25%</td>\n",
       "      <td>25.000000</td>\n",
       "      <td>0.000000e+00</td>\n",
       "    </tr>\n",
       "    <tr>\n",
       "      <td>50%</td>\n",
       "      <td>33.000000</td>\n",
       "      <td>0.000000e+00</td>\n",
       "    </tr>\n",
       "    <tr>\n",
       "      <td>75%</td>\n",
       "      <td>40.750000</td>\n",
       "      <td>4.000000e+05</td>\n",
       "    </tr>\n",
       "    <tr>\n",
       "      <td>max</td>\n",
       "      <td>63.000000</td>\n",
       "      <td>9.000000e+06</td>\n",
       "    </tr>\n",
       "  </tbody>\n",
       "</table>\n",
       "</div>"
      ],
      "text/plain": [
       "              age  current loan\n",
       "count  110.000000  1.100000e+02\n",
       "mean    34.109091  6.033818e+05\n",
       "std     11.248115  1.567828e+06\n",
       "min     18.000000  0.000000e+00\n",
       "25%     25.000000  0.000000e+00\n",
       "50%     33.000000  0.000000e+00\n",
       "75%     40.750000  4.000000e+05\n",
       "max     63.000000  9.000000e+06"
      ]
     },
     "execution_count": 93,
     "metadata": {},
     "output_type": "execute_result"
    }
   ],
   "source": [
    "table.describe()"
   ]
  },
  {
   "cell_type": "markdown",
   "metadata": {},
   "source": [
    "Code 'count' shows number of rows each column has- 110.\n",
    "\n",
    "Code 'mean' shows the average value of each observation. It is determined by adding all the data points and then dividing the total by the number of points. That makes our average age is 34.1 years and current loan 6.033818e+05.\n",
    "\n",
    "Code 'std' shows the number of differing values from the mean. A low std means numbers are close to the average. A high std means that the numbers are uncommon.\n",
    "\n",
    "Code 'min'shows number of minimum index in the row. 18 is min age and 0 is min current loan, mostle presented at studetens and unepmloyed people.\n",
    "\n",
    "Codes '25%', '50%', '75' shows how much observations in the row have particular percentage. 25% of clients have age 25.0, 50% of respondents are in the age of 33 and 75% are in age of 40.75 years. The same logic with current loans.\n",
    "\n",
    "Code 'max' number of maximum index in the row."
   ]
  },
  {
   "cell_type": "code",
   "execution_count": 7,
   "metadata": {},
   "outputs": [
    {
     "data": {
      "image/png": "[encoded data removed]",
      "text/plain": [
       "<Figure size 432x288 with 1 Axes>"
      ]
     },
     "metadata": {
      "needs_background": "light"
     },
     "output_type": "display_data"
    }
   ],
   "source": [
    "table=sns.barplot(x=\"housing\", y=\"age\", hue='gender', data=table)"
   ]
  },
  {
   "cell_type": "markdown",
   "metadata": {},
   "source": [
    "In that chart we have been analysing relationship netween age, gender and whethere the respondents have houses or not. The chart shows that most of respondents in the age more than 40 have houses, and majority of them are females. Respondents in age of less than 30 females and males on the same level do not have houses."
   ]
  },
  {
   "cell_type": "code",
   "execution_count": 20,
   "metadata": {},
   "outputs": [
    {
     "data": {
      "image/png": "[encoded data removed]",
      "text/plain": [
       "<Figure size 432x288 with 1 Axes>"
      ]
     },
     "metadata": {
      "needs_background": "light"
     },
     "output_type": "display_data"
    }
   ],
   "source": [
    "table=sns.barplot(x=\"age\", y=\"kids\", hue=\"housing\", data=table)"
   ]
  },
  {
   "cell_type": "markdown",
   "metadata": {},
   "source": [
    "The chart analyses whether people with kids have houses or not.  And we can see that people in the age of 40 have kids and houses. But also percentage of people less than 35 years have kids, but no house. Most interesting part is that people in age less than 35 without kids have houses. Age of people with houses in that case is less than in case of people with kids."
   ]
  },
  {
   "cell_type": "code",
   "execution_count": 4,
   "metadata": {},
   "outputs": [
    {
     "data": {
      "image/png": "[encoded data removed]",
      "text/plain": [
       "<Figure size 432x288 with 1 Axes>"
      ]
     },
     "metadata": {
      "needs_background": "light"
     },
     "output_type": "display_data"
    }
   ],
   "source": [
    "table=sns.barplot(x=\"age\", y=\"deposit\", hue=\"education\", data=table)"
   ]
  },
  {
   "cell_type": "markdown",
   "metadata": {},
   "source": [
    "That chart shows education of people with and withot deposit and their age. As we can see, people in age between 30 and 40 have been finished MBA and high scholl on the same level, next are people with Masters degree, than with College Diploma. Students in the age of 20 also does not have deposits."
   ]
  },
  {
   "cell_type": "code",
   "execution_count": 29,
   "metadata": {},
   "outputs": [
    {
     "data": {
      "image/png": "[encoded data removed]",
      "text/plain": [
       "<Figure size 432x288 with 1 Axes>"
      ]
     },
     "metadata": {
      "needs_background": "light"
     },
     "output_type": "display_data"
    }
   ],
   "source": [
    "table=sns.barplot(x=\"current loan\", y=\"loan\", hue=\"marital status\", data=table)"
   ]
  },
  {
   "cell_type": "markdown",
   "metadata": {},
   "source": [
    "That table analyses age, marital status and loan presence. Married people have the bigest amount of loans more than 2M tg."
   ]
  },
  {
   "cell_type": "code",
   "execution_count": 24,
   "metadata": {},
   "outputs": [
    {
     "data": {
      "image/png": "[encoded data removed]",
      "text/plain": [
       "<Figure size 432x288 with 1 Axes>"
      ]
     },
     "metadata": {
      "needs_background": "light"
     },
     "output_type": "display_data"
    }
   ],
   "source": [
    "table=sns.barplot(x=\"current loan\", y=\"deposit\", hue=\"job\", data=table)"
   ]
  },
  {
   "cell_type": "markdown",
   "metadata": {},
   "source": [
    "In the analysis we can see that most enterpreneurs have the the biggest amount of current loans and they does not have deposits in the bank. Admin. and tecgnician on the second and third places."
   ]
  },
  {
   "cell_type": "code",
   "execution_count": 33,
   "metadata": {},
   "outputs": [
    {
     "data": {
      "image/png": "[encoded data removed]",
      "text/plain": [
       "<Figure size 432x288 with 1 Axes>"
      ]
     },
     "metadata": {
      "needs_background": "light"
     },
     "output_type": "display_data"
    }
   ],
   "source": [
    "table=sns.barplot(x=\"age\", y=\"deposit\", hue=\"job\", data=table)"
   ]
  },
  {
   "cell_type": "markdown",
   "metadata": {},
   "source": [
    "In the last analysis we see that people without deposit are mostly have jobs related to management, technician, blue collars and housemaids in age between 30 and 40. People before 30 without deposits are students, service jobs and admin.jobs."
   ]
  }
 ],
 "metadata": {
  "kernelspec": {
   "display_name": "Python 3",
   "language": "python",
   "name": "python3"
  },
  "language_info": {
   "codemirror_mode": {
    "name": "ipython",
    "version": 3
   },
   "file_extension": ".py",
   "mimetype": "text/x-python",
   "name": "python",
   "nbconvert_exporter": "python",
   "pygments_lexer": "ipython3",
   "version": "3.7.4"
  }
 },
 "nbformat": 4,
 "nbformat_minor": 2
}
